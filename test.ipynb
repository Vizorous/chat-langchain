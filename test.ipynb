{
 "cells": [
  {
   "cell_type": "code",
   "execution_count": 1,
   "metadata": {},
   "outputs": [
    {
     "data": {
      "text/markdown": [
       "<span style=\"color:#666\">**[</span><span style=\"color:#1776D2\">2024-12-29 06:18:09</span><span style=\"color:#666\">]</span> <span style=\"color:#666\">Получение прогнозов и вычисление точности (мультимодальное объединение) ...</span>**<p><span style=\"color:#666\">&nbsp;&nbsp;&nbsp;&nbsp;0 из 1 (0.0%) ... Users/vikumwijekoon/git/chat-langchain/video_FI/test/trim14low.mp4 ...</span></p>"
      ],
      "text/plain": [
       "<IPython.core.display.Markdown object>"
      ]
     },
     "metadata": {},
     "output_type": "display_data"
    },
    {
     "name": "stderr",
     "output_type": "stream",
     "text": [
      "I0000 00:00:1735433303.373205 5914201 gl_context.cc:369] GL version: 2.1 (2.1 Metal - 89.3), renderer: Apple M1 Pro\n",
      "W0000 00:00:1735433303.378018 5917889 inference_feedback_manager.cc:114] Feedback manager requires a model with a single signature inference. Disabling support for feedback tensors.\n",
      "W0000 00:00:1735433303.396987 5917887 inference_feedback_manager.cc:114] Feedback manager requires a model with a single signature inference. Disabling support for feedback tensors.\n",
      "W0000 00:00:1735433303.433891 5917887 landmark_projection_calculator.cc:186] Using NORM_RECT without IMAGE_DIMENSIONS is only supported for the square ROI. Provide IMAGE_DIMENSIONS or use PROJECTION_MATRIX.\n",
      "You have passed language=en, but also have set `forced_decoder_ids` to [[1, None], [2, 50359]] which creates a conflict. `forced_decoder_ids` will be ignored in favor of language=en.\n",
      "The attention mask is not set and cannot be inferred from input because pad token is same as eos token. As a consequence, you may observe unexpected behavior. Please pass your input's `attention_mask` to obtain reliable results.\n"
     ]
    },
    {
     "ename": "",
     "evalue": "",
     "output_type": "error",
     "traceback": [
      "\u001b[1;31mThe Kernel crashed while executing code in the current cell or a previous cell. \n",
      "\u001b[1;31mPlease review the code in the cell(s) to identify a possible cause of the failure. \n",
      "\u001b[1;31mClick <a href='https://aka.ms/vscodeJupyterKernelCrash'>here</a> for more info. \n",
      "\u001b[1;31mView Jupyter <a href='command:jupyter.viewOutput'>log</a> for further details."
     ]
    }
   ],
   "source": [
    "# Импорт необходимых инструментов\n",
    "import os\n",
    "import pandas as pd\n",
    "\n",
    "# Импорт модуля\n",
    "from oceanai.modules.lab.build import Run\n",
    "\n",
    "# Создание экземпляра класса\n",
    "_b5 = Run()\n",
    "\n",
    "# Настройка ядра\n",
    "_b5.path_to_save_ = './models' # Директория для сохранения файла\n",
    "_b5.chunk_size_ = 2000000      # Размер загрузки файла из сети за 1 шаг\n",
    "\n",
    "corpus = 'fi'\n",
    "\n",
    "# Формирование аудиомоделей\n",
    "res_load_model_hc = _b5.load_audio_model_hc()\n",
    "res_load_model_nn = _b5.load_audio_model_nn()\n",
    "\n",
    "# Загрузка весов аудиомоделей\n",
    "url = _b5.weights_for_big5_['audio'][corpus]['hc']['googledisk']\n",
    "res_load_model_weights_hc = _b5.load_audio_model_weights_hc(url = url, force_reload = False)\n",
    "\n",
    "url = _b5.weights_for_big5_['audio'][corpus]['nn']['googledisk']\n",
    "res_load_model_weights_nn = _b5.load_audio_model_weights_nn(url = url, force_reload = False)\n",
    "\n",
    "# Формирование видеомоделей\n",
    "res_load_model_hc = _b5.load_video_model_hc(lang='en')\n",
    "res_load_model_deep_fe = _b5.load_video_model_deep_fe()\n",
    "res_load_model_nn = _b5.load_video_model_nn()\n",
    "\n",
    "# Загрузка весов видеомоделей\n",
    "url = _b5.weights_for_big5_['video'][corpus]['hc']['googledisk']\n",
    "res_load_model_weights_hc = _b5.load_video_model_weights_hc(url = url, force_reload = False)\n",
    "\n",
    "url = _b5.weights_for_big5_['video'][corpus]['fe']['googledisk']\n",
    "res_load_model_weights_deep_fe = _b5.load_video_model_weights_deep_fe(url = url, force_reload = False)\n",
    "\n",
    "url = _b5.weights_for_big5_['video'][corpus]['nn']['googledisk']\n",
    "res_load_model_weights_nn = _b5.load_video_model_weights_nn(url = url, force_reload = False)\n",
    "\n",
    "# Загрузка словаря с экспертными признаками (текстовая модальность)\n",
    "res_load_text_features = _b5.load_text_features()\n",
    "\n",
    "# Формирование текстовых моделей\n",
    "res_setup_bert_model = _b5.setup_bert_encoder(force_reload = False)\n",
    "res_load_text_model_hc_fi = _b5.load_text_model_hc(corpus=corpus)\n",
    "res_load_text_model_nn_fi = _b5.load_text_model_nn(corpus=corpus)\n",
    "\n",
    "# Загрузка весов текстовых моделей\n",
    "url = _b5.weights_for_big5_['text'][corpus]['hc']['googledisk']\n",
    "res_load_text_model_weights_hc_fi = _b5.load_text_model_weights_hc(url = url, force_reload = False)\n",
    "\n",
    "url = _b5.weights_for_big5_['text'][corpus]['nn']['googledisk']\n",
    "res_load_text_model_weights_nn_fi = _b5.load_text_model_weights_nn(url = url, force_reload = False)\n",
    "\n",
    "# Формирование модели для мультимодального объединения информации\n",
    "res_load_avt_model_b5 = _b5.load_avt_model_b5()\n",
    "\n",
    "# Загрузка весов модели для мультимодального объединения информации\n",
    "url = _b5.weights_for_big5_['avt'][corpus]['b5']['googledisk']\n",
    "res_load_avt_model_weights_b5 = _b5.load_avt_model_weights_b5(url = url, force_reload = False)\n",
    "\n",
    "PATH_TO_DIR = './video_FI/'\n",
    "PATH_SAVE_VIDEO = './video_FI/test/'\n",
    "\n",
    "_b5.path_to_save_ = PATH_SAVE_VIDEO\n",
    "\n",
    "# Загрузка 10 тестовых аудиовидеозаписей из корпуса First Impression V2\n",
    "# URL: https://chalearnlap.cvc.uab.cat/dataset/24/description/\n",
    "domain = 'https://download.sberdisk.ru/download/file/'\n",
    "tets_name_files = [\n",
    "    '429713680?token=FqHdMLSSh7zYSZt&filename=_plk5k7PBEg.003.mp4',\n",
    "    '429713681?token=Hz9b4lQkrLfic33&filename=be0DQawtVkE.002.mp4',\n",
    "    '429713683?token=EgUXS9Xs8xHm5gz&filename=2d6btbaNdfo.000.mp4',\n",
    "    '429713684?token=1U26753kmPYdIgt&filename=300gK3CnzW0.003.mp4',\n",
    "    '429713685?token=LyigAWLTzDNwKJO&filename=300gK3CnzW0.001.mp4',\n",
    "    '429713686?token=EpfRbCKHyuc4HPu&filename=cLaZxEf1nE4.004.mp4',\n",
    "    '429713687?token=FNTkwqBr4jOS95l&filename=g24JGYuT74A.004.mp4',\n",
    "    '429713688?token=qDT95nz7hfm2Nki&filename=JZNMxa3OKHY.000.mp4',\n",
    "    '429713689?token=noLguEGXDpbcKhg&filename=nvlqJbHk_Lc.003.mp4',\n",
    "    '429713679?token=9L7RQ0hgdJlcek6&filename=4vdJGgZpj4k.003.mp4'\n",
    "]\n",
    "\n",
    "_b5.download_file_from_url(url = \"https://github.com/Vizorous/chamu-videos/raw/refs/heads/main/trim14low.mp4\", out = True)\n",
    "\n",
    "# Получение прогнозов\n",
    "_b5.path_to_dataset_ = PATH_TO_DIR # Директория набора данных\n",
    "_b5.ext_ = ['.mp4'] # Расширения искомых файлов\n",
    "\n",
    "# Полный путь к файлу с верными предсказаниями для подсчета точности\n",
    "url_accuracy = _b5.true_traits_[corpus]['googledisk']\n",
    "\n",
    "_b5.get_avt_predictions(url_accuracy = url_accuracy, lang = 'en')"
   ]
  }
 ],
 "metadata": {
  "kernelspec": {
   "display_name": "chamu3",
   "language": "python",
   "name": "python3"
  },
  "language_info": {
   "codemirror_mode": {
    "name": "ipython",
    "version": 3
   },
   "file_extension": ".py",
   "mimetype": "text/x-python",
   "name": "python",
   "nbconvert_exporter": "python",
   "pygments_lexer": "ipython3",
   "version": "3.11.11"
  }
 },
 "nbformat": 4,
 "nbformat_minor": 2
}
